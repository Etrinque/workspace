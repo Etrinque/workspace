{
 "cells": [
  {
   "cell_type": "code",
   "execution_count": null,
   "metadata": {},
   "outputs": [],
   "source": [
    "def power_set(input_set):\n",
    "    if len(input_set) == 0:\n",
    "        return [[]]\n",
    "    subsets = []\n",
    "    first = input_set[0]\n",
    "    remaining = input_set[1:]\n",
    "    remaining_subsets = power_set(remaining)\n",
    "    for subset in remaining_subsets:\n",
    "        subsets.append([first] + subset)\n",
    "        subsets.append(subset)\n",
    "    return subsets\n",
    "\n",
    "# don't touch below this line\n",
    "\n",
    "def test(input_set):\n",
    "    result = power_set(input_set)\n",
    "    print(f\"Number of subsets of {input_set}: {len(result)}\")\n",
    "    print(\"====================================\")\n",
    "\n",
    "\n",
    "def main():\n",
    "    for i in range(1, 22):\n",
    "        nums = list(range(1, i))\n",
    "        test(nums)\n",
    "\n",
    "\n",
    "main()"
   ]
  }
 ],
 "metadata": {
  "language_info": {
   "name": "python"
  }
 },
 "nbformat": 4,
 "nbformat_minor": 2
}
